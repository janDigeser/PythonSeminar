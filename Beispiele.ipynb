{
 "cells": [
  {
   "cell_type": "markdown",
   "metadata": {},
   "source": [
    "## Beispiel Iteratoren\n",
    "\n",
    "Um Iteratoren besser zu verstehen bauen wir einen eigenen, der die Fibanacci-Zahlen liefert.\n",
    "Es handelt sich um einen unendlichen Iterator, da es keine letzte Fibonacci-Zahl gibt."
   ]
  },
  {
   "cell_type": "code",
   "execution_count": null,
   "metadata": {},
   "outputs": [],
   "source": [
    "from collections.abc import Iterator\n",
    "\n",
    "class Fibonacci(Iterator):\n",
    "    \"\"\"Iteriert über die Fibonacci-Zahlen\"\"\"\n",
    "    \n",
    "    def __init__(self):\n",
    "        \"\"\"\n",
    "        Initialisiert mit:\n",
    "            f(0) = 0\n",
    "            f(1) = 1\n",
    "        \"\"\"\n",
    "        \n",
    "        self.old     : int = 0\n",
    "        self.current : int = 1\n",
    "    \n",
    "    def __iter__(self) -> Iterator:\n",
    "        return self\n",
    "    \n",
    "    def __next__(self) -> int:\n",
    "        \"\"\" \n",
    "        Berechnet f(n+1) = f(n-1) + f(n)\n",
    "        Aktualisiert n\n",
    "        \n",
    "        Returns: f(n)      \n",
    "        \"\"\"\n",
    "        self.old, self.current = self.current, self.old + self.current\n",
    "        return self.old\n",
    "    \n",
    "    def __repr__(self):\n",
    "        return \"state : ({}, {})\".format(self.old, self.current)\n",
    "    \n"
   ]
  },
  {
   "cell_type": "code",
   "execution_count": null,
   "metadata": {},
   "outputs": [],
   "source": [
    "fib = Fibonacci()\n",
    "[ next(fib) for i in range(10) ]"
   ]
  },
  {
   "cell_type": "code",
   "execution_count": null,
   "metadata": {},
   "outputs": [],
   "source": []
  },
  {
   "cell_type": "code",
   "execution_count": null,
   "metadata": {},
   "outputs": [],
   "source": []
  },
  {
   "cell_type": "code",
   "execution_count": null,
   "metadata": {},
   "outputs": [],
   "source": []
  },
  {
   "cell_type": "code",
   "execution_count": null,
   "metadata": {},
   "outputs": [],
   "source": []
  },
  {
   "cell_type": "markdown",
   "metadata": {},
   "source": [
    "## Generator Beispiele\n",
    "\n",
    "#### Fibonacci"
   ]
  },
  {
   "cell_type": "code",
   "execution_count": null,
   "metadata": {},
   "outputs": [],
   "source": [
    "def fib():\n",
    "    old, current = 0, 1\n",
    "    while True:\n",
    "        old, current = current, current + old\n",
    "        yield old\n",
    "        if old > 100:\n",
    "            return\n",
    "        \n",
    "f = fib()\n",
    "list(f)"
   ]
  },
  {
   "cell_type": "markdown",
   "metadata": {},
   "source": [
    "#### Sendend von Werten"
   ]
  },
  {
   "cell_type": "code",
   "execution_count": null,
   "metadata": {},
   "outputs": [],
   "source": [
    "def send_test():\n",
    "    x = yield '1'\n",
    "    y = yield '2'\n",
    "    z = yield (x, y)\n",
    "    yield z\n",
    "    \n",
    "test = send_test()"
   ]
  },
  {
   "cell_type": "code",
   "execution_count": null,
   "metadata": {},
   "outputs": [],
   "source": [
    "next(test)"
   ]
  },
  {
   "cell_type": "code",
   "execution_count": null,
   "metadata": {},
   "outputs": [],
   "source": [
    "test.send(\"Hello\")"
   ]
  },
  {
   "cell_type": "code",
   "execution_count": null,
   "metadata": {},
   "outputs": [],
   "source": [
    "test.send(\"World\")"
   ]
  },
  {
   "cell_type": "code",
   "execution_count": null,
   "metadata": {},
   "outputs": [],
   "source": [
    "test.send(\"Ende\")"
   ]
  },
  {
   "cell_type": "code",
   "execution_count": null,
   "metadata": {},
   "outputs": [],
   "source": [
    "next(test)"
   ]
  },
  {
   "cell_type": "markdown",
   "metadata": {},
   "source": [
    "\n"
   ]
  },
  {
   "cell_type": "markdown",
   "metadata": {},
   "source": [
    " "
   ]
  },
  {
   "cell_type": "markdown",
   "metadata": {},
   "source": [
    "#### Decorator "
   ]
  },
  {
   "cell_type": "code",
   "execution_count": 1,
   "metadata": {},
   "outputs": [],
   "source": [
    "from functools import wraps\n",
    "from time import process_time\n",
    "\n",
    "def timeit(f):\n",
    "    @wraps(f)\n",
    "    def wrapper(*args, **kwargs):\n",
    "        t_start = process_time()\n",
    "        val = f(*args, **kwargs)\n",
    "        t = process_time() - t_start\n",
    "        pp = \"Executing time for {}({}, {}):\\n\".format(f.__name__,args, kwargs)\n",
    "        print(pp, t)\n",
    "        return val\n",
    "    return wrapper\n",
    "        "
   ]
  },
  {
   "cell_type": "code",
   "execution_count": 12,
   "metadata": {},
   "outputs": [],
   "source": [
    "@timeit\n",
    "def myFunction( x: int ):\n",
    "    some = \"\"\n",
    "    for i in range(x**2):\n",
    "        for j in range(i):\n",
    "            some += str(j)\n"
   ]
  },
  {
   "cell_type": "code",
   "execution_count": 13,
   "metadata": {
    "scrolled": true
   },
   "outputs": [
    {
     "name": "stdout",
     "output_type": "stream",
     "text": [
      "Executing time for myFunction((40,), {}):\n",
      " 1.46875\n"
     ]
    }
   ],
   "source": [
    "myFunction(40)"
   ]
  },
  {
   "cell_type": "code",
   "execution_count": 19,
   "metadata": {},
   "outputs": [],
   "source": [
    "from functools import lru_cache\n",
    "\n",
    "@lru_cache(maxsize = 2)\n",
    "def _cache_fib(n : int) -> int:\n",
    "    if n < 2: return n\n",
    "    return _cache_fib(n-2) + _cache_fib(n-1)\n",
    "\n",
    "@timeit\n",
    "def fast_fib(n : int) -> int:\n",
    "    return _cache_fib(n)\n",
    "\n",
    "def _fib(n : int) -> int:\n",
    "    if n < 2: return n\n",
    "    return _fib(n-2) + _fib(n-1)\n",
    "\n",
    "@timeit\n",
    "def slow_fib(n : int) -> int:\n",
    "    return _fib(n)"
   ]
  },
  {
   "cell_type": "code",
   "execution_count": 23,
   "metadata": {},
   "outputs": [
    {
     "name": "stdout",
     "output_type": "stream",
     "text": [
      "Executing time for fast_fib((100,), {}):\n",
      " 0.0\n",
      "Executing time for slow_fib((35,), {}):\n",
      " 8.46875\n"
     ]
    },
    {
     "data": {
      "text/plain": [
       "9227465"
      ]
     },
     "execution_count": 23,
     "metadata": {},
     "output_type": "execute_result"
    }
   ],
   "source": [
    "fast_fib(100)\n",
    "slow_fib(35)"
   ]
  },
  {
   "cell_type": "code",
   "execution_count": null,
   "metadata": {},
   "outputs": [],
   "source": []
  }
 ],
 "metadata": {
  "kernelspec": {
   "display_name": "Python 3",
   "language": "python",
   "name": "python3"
  },
  "language_info": {
   "codemirror_mode": {
    "name": "ipython",
    "version": 3
   },
   "file_extension": ".py",
   "mimetype": "text/x-python",
   "name": "python",
   "nbconvert_exporter": "python",
   "pygments_lexer": "ipython3",
   "version": "3.6.1"
  }
 },
 "nbformat": 4,
 "nbformat_minor": 2
}
