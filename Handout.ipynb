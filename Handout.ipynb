{
 "cells": [
  {
   "cell_type": "markdown",
   "metadata": {},
   "source": [
    "# Programmieren in Python\n",
    "## Lambda-Ausdrücke, Listenabstraktion, Generatoren, Dekoratuere"
   ]
  },
  {
   "cell_type": "markdown",
   "metadata": {},
   "source": [
    " ---"
   ]
  },
  {
   "cell_type": "markdown",
   "metadata": {},
   "source": [
    "## 1. Lambda-Ausdrücke\n",
    "\n",
    "Syntax:\n",
    "```python\n",
    "lambda *arguments: expression\n",
    "```\n",
    "\n",
    "Entspricht der benannten Funktion\n",
    "```python\n",
    "def func(*arguments):\n",
    "    return expression\n",
    "```\n",
    "\n",
    "Beispiel mit der Funktion    $~ f:\\mathbb{R}\\rightarrow\\mathbb{R},~ x \\mapsto x^2$\n",
    "\n",
    "Ohne Lambda:"
   ]
  },
  {
   "cell_type": "code",
   "execution_count": null,
   "metadata": {},
   "outputs": [],
   "source": [
    "def f(x : float) -> float:\n",
    "    return x ** 2"
   ]
  },
  {
   "cell_type": "markdown",
   "metadata": {},
   "source": [
    "Nun mit Lambdas:"
   ]
  },
  {
   "cell_type": "code",
   "execution_count": null,
   "metadata": {},
   "outputs": [],
   "source": [
    "f = lambda x: x ** 2"
   ]
  },
  {
   "cell_type": "markdown",
   "metadata": {},
   "source": [
    "* Vorteile:\n",
    "\n",
    "    - weniger Keywords um einfache Funktionen zu schreiben\n",
    "    - benötigt keinen Namen\n",
    "    - Anwendung für Mappings, Filter usw.\n",
    "\n",
    "* Nachteile:\n",
    "    - keine Type-Annotations möglich (ab Python 3.6 möglich)\n",
    "    - für mehr als simple Funktionen unübersichtlich"
   ]
  },
  {
   "cell_type": "code",
   "execution_count": null,
   "metadata": {},
   "outputs": [],
   "source": [
    "# Beispiel für Anwendung\n",
    "\n",
    "data = [1,2,3,4,5,6,7,8,9,10] # some data\n",
    "\n",
    "divisible_by_three = filter(lambda x: x % 3 == 0, data)\n",
    "\n",
    "print(list(divisible_by_three))"
   ]
  },
  {
   "cell_type": "markdown",
   "metadata": {},
   "source": [
    "---"
   ]
  },
  {
   "cell_type": "markdown",
   "metadata": {},
   "source": [
    "## 2. Comprehensions\n",
    "\n",
    "In Python können Listen, Sets, und Dictionaries mit einfacher Syntax generiert werden\n",
    "\n",
    "Beispiel:\n",
    "\n",
    "    a_list = [False, False, True, False, False]\n",
    "    a_set  = {1, 4, 9, 16, 25}\n",
    "    a_dict = {'a': 1, 'aa': 2, 'aaa': 3, 'aaaa': 4}\n",
    "    \n",
    "Wollen wir Listen, Sets und Dictionaries nach einer bestimmten Regel generieren kann man dies in einer Schleife tun:\n",
    "```python\n",
    "a_list = []\n",
    "for i in range(5):\n",
    "    a_list.append(i % 3 == 2)\n",
    "\n",
    "a_set = set()\n",
    "for i in range(1, 6):\n",
    "    a_set.add(i ** 2)\n",
    "\n",
    "a_dict = {}\n",
    "for i in range(1, 5):\n",
    "    a_dict['a'*i] = i \n",
    "```    \n",
    "Python hat dafür eine einfachere schreibweise, die nicht nur verständlicher, sondern auch schneller ist $-$ die Comprehensions\n",
    "Die List-, Set- und Dictionary-Comprehensions sind wie folgt aufgebaut:\n",
    "\n",
    "```python\n",
    "# Vereinfacht\n",
    "liste_a = [ expression for target_list in smth ]\n",
    "```\n",
    "Man kann mehr als eine for-Schleife benutzen\n",
    "```python\n",
    "liste_b = [ expression for target_a in smth1 for target_b in smth2 ]\n",
    "```\n",
    "\n",
    "Und auch Tests sind möglich\n",
    "```python\n",
    "liste_c = [ expression for target in smth if condition ] \n",
    "```\n",
    "\n",
    "Am besten einfach ein paar Beispiele\n",
    "\n",
    "```python\n",
    "# Die drei Beispiele von gerade eben mit Comprehensions\n",
    "\n",
    "a_list = [i % 3 == 2 for i in range(5)]\n",
    "a_set  = {i ** 2 for i in range(1,6)}\n",
    "a_dict = {i*'a': i for i in range(1,6)}\n",
    "\n",
    "\n",
    "\"\"\" \n",
    "* Wenn man mit einer 2D-Liste arbeitet benötigt man manchmal die 8 Nachbarn\n",
    "* einer Zelle (z.B. Conways Game of Life, Minesweeper)\n",
    "* \n",
    "\"\"\"\n",
    "# array : List[List[int]]\n",
    "# pos_x : int\n",
    "# pos_y : int\n",
    "neighbors = [array[pos_x+xoff][pos_y+yoff] for xoff in {-1,0,1}\n",
    "                                           for yoff in {-1,0,1}\n",
    "                                           if xoff != or yoff != 0 ]\n",
    "\n",
    "\n",
    "\"\"\"\n",
    "* \n",
    "\"\"\"\n",
    "\n",
    "```\n",
    "---"
   ]
  },
  {
   "cell_type": "markdown",
   "metadata": {},
   "source": [
    "## 3. Generatoren\n",
    "\n",
    "Für den Einstieg in Generatoren schauen wir uns diese Grafik an:\n",
    "\n",
    "<figure>\n",
    "   <img src=\"http://nvie.com/img/relationships.png\" width=\"600\" pady=\"50\" title=\"Quelle: http://nvie.com/img/relationships.png\">\n",
    "  <figcaption> Quelle: http://nvie.com/img/relationships.png </figcaption>\n",
    "</figure>\n",
    "\n"
   ]
  },
  {
   "cell_type": "markdown",
   "metadata": {},
   "source": [
    "Definition aus dem Source Code von collections.abc\n",
    "Zeigt die Abstract Base Classes von Iterable, Iterator und Generator:\n",
    "\n",
    "(Implementation der Funktionen fehlt, soll nur zeigen, welche Methoden implementiert werden müssen)\n",
    "```python\n",
    "from abc import ABCMeta, abstractmethod\n",
    "\n",
    "\n",
    "class Iterable(metaclass=ABCMeta):\n",
    "\n",
    "    __slots__ = ()\n",
    "\n",
    "    @abstractmethod\n",
    "    def __iter__(self):\n",
    "        return NotImplemented\n",
    "\n",
    "class Iterator(Iterable):\n",
    "\n",
    "    __slots__ = ()\n",
    "\n",
    "    @abstractmethod\n",
    "    def __next__(self):\n",
    "        'Return the next item from the iterator. When exhausted, raise StopIteration'\n",
    "        return NotImplemented\n",
    "\n",
    "    def __iter__(self):\n",
    "        return self\n",
    "\n",
    "    \n",
    "class Generator(Iterator):\n",
    "\n",
    "    __slots__ = ()\n",
    "\n",
    "    def __next__(self):\n",
    "        \"\"\"Return the next item from the generator.\n",
    "        When exhausted, raise StopIteration.\n",
    "        \"\"\"\n",
    "        return NotImplemented\n",
    "\n",
    "    @abstractmethod\n",
    "    def send(self, value):\n",
    "        \"\"\"Send a value into the generator.\n",
    "        Return next yielded value or raise StopIteration.\n",
    "        \"\"\"\n",
    "        return NotImplemented\n",
    "\n",
    "    @abstractmethod\n",
    "    def throw(self, typ, val=None, tb=None):\n",
    "        \"\"\"Raise an exception in the generator.\n",
    "        Return next yielded value or raise StopIteration.\n",
    "        \"\"\"\n",
    "        return NotImplemented\n",
    "\n",
    "    def close(self):\n",
    "        \"\"\"Raise GeneratorExit inside generator.\n",
    "        \"\"\"\n",
    "        try:\n",
    "            self.throw(GeneratorExit)\n",
    "        except (GeneratorExit, StopIteration):\n",
    "            pass\n",
    "        else:\n",
    "            raise RuntimeError(\"generator ignored GeneratorExit\")\n",
    "\n",
    "```"
   ]
  },
  {
   "cell_type": "markdown",
   "metadata": {},
   "source": [
    "Generatoren können auch eleganter geschrieben werden. Eine Möglichkeit ist die Generator-Expression. Sie ist ähnlich zu den Comprehensions jedoch gibt sie ein Generator Objekt zurück."
   ]
  },
  {
   "cell_type": "code",
   "execution_count": null,
   "metadata": {},
   "outputs": [],
   "source": [
    "zaehlen = (i for i in range(10))"
   ]
  },
  {
   "cell_type": "code",
   "execution_count": null,
   "metadata": {},
   "outputs": [],
   "source": [
    "print(type(zaehlen))\n",
    "try:\n",
    "    print(next(zaehlen))\n",
    "except StopIteration:\n",
    "    print(\"Ende\")"
   ]
  },
  {
   "cell_type": "markdown",
   "metadata": {},
   "source": [
    "Möchte man komplexere Generatoren schreiben hilft einem die Generator Funktion. Sie sieht ähnlich zu normalen Funktionen aus, jedoch benutzt sie das Keyword ```yield``` an Stelle von ```return```. Bei jedem Aufruf von ```next``` oder ```.send```, arbeitet der Generator dann bis zum Keyword ```yield``` , gibt das Element aus und pausiert dann bis zum nächsten Aufruf von ```next``` oder ```.send```"
   ]
  },
  {
   "cell_type": "code",
   "execution_count": null,
   "metadata": {},
   "outputs": [],
   "source": [
    "def gen():\n",
    "    for i in range(10):\n",
    "        yield i\n",
    "generator = gen()"
   ]
  },
  {
   "cell_type": "code",
   "execution_count": null,
   "metadata": {},
   "outputs": [],
   "source": [
    "print(type(generator))\n",
    "try:\n",
    "    print(next(generator))\n",
    "except StopIteration:\n",
    "    print(\"Ende\")"
   ]
  },
  {
   "cell_type": "markdown",
   "metadata": {},
   "source": [
    "Wenn die Methode ```.send(value)``` benutzt wird, nimmt das yield statement den Wert von ```value``` an.\n",
    "\n",
    "```python\n",
    ">>> def send_test():\n",
    "        eins = yield \"1\"\n",
    "        zwei = yield \"2\"\n",
    "        drei = yield (eins, zwei)\n",
    "        yield drei\n",
    "    \n",
    ">>> test = send_test()\n",
    ">>> next(test)          # same as test.send(None)\n",
    "\"1\"\n",
    ">>> test.send(\"Hello\")\n",
    "\"2\"\n",
    ">>> test.send(\"World\")\n",
    "(\"Hello\", \"World\")\n",
    ">>> test.send(\"Test\")\n",
    "\"Test\"\n",
    ">>> test.send(\"Jetzt ist Schluss\")\n",
    "StopIteration\n",
    "```"
   ]
  },
  {
   "cell_type": "markdown",
   "metadata": {},
   "source": [
    "Generatoren müssen kein letzes Element haben. Es ist absolut erlaubt so etwas zu schreiben:\n",
    "\n",
    "```python\n",
    "def numbers(start=0, step=1):\n",
    "    while True:\n",
    "        yield start\n",
    "        start += step\n",
    "```\n",
    "Dies ist sogar so oft genutzt, dass es einen Iterator im ```itertools``` Modul von python gibt, (fast) das gleiche Ergebnis erzielt. (itertools.count(start=0,step=0))\n",
    "```python\n",
    "\n",
    "```"
   ]
  },
  {
   "cell_type": "code",
   "execution_count": 81,
   "metadata": {},
   "outputs": [
    {
     "data": {
      "text/plain": [
       "[0, 12, 11, 18]"
      ]
     },
     "execution_count": 81,
     "metadata": {},
     "output_type": "execute_result"
    }
   ],
   "source": [
    "from functools import reduce\n",
    "list(reduce(lambda a, b: [*a, a[-1]+b], [12, -1, 7],[0]))"
   ]
  },
  {
   "cell_type": "code",
   "execution_count": 82,
   "metadata": {},
   "outputs": [],
   "source": [
    "a = []\n"
   ]
  },
  {
   "cell_type": "code",
   "execution_count": 83,
   "metadata": {},
   "outputs": [
    {
     "data": {
      "text/plain": [
       "3"
      ]
     },
     "execution_count": 83,
     "metadata": {},
     "output_type": "execute_result"
    }
   ],
   "source": [
    "a = [1,2,3]\n",
    "a.pop()"
   ]
  },
  {
   "cell_type": "code",
   "execution_count": 86,
   "metadata": {},
   "outputs": [
    {
     "ename": "IndexError",
     "evalue": "pop from empty list",
     "output_type": "error",
     "traceback": [
      "\u001b[1;31m---------------------------------------------------------------------------\u001b[0m",
      "\u001b[1;31mIndexError\u001b[0m                                Traceback (most recent call last)",
      "\u001b[1;32m<ipython-input-86-9c070c907602>\u001b[0m in \u001b[0;36m<module>\u001b[1;34m()\u001b[0m\n\u001b[1;32m----> 1\u001b[1;33m \u001b[0ma\u001b[0m\u001b[1;33m.\u001b[0m\u001b[0mpop\u001b[0m\u001b[1;33m(\u001b[0m\u001b[1;33m)\u001b[0m\u001b[1;33m\u001b[0m\u001b[0m\n\u001b[0m",
      "\u001b[1;31mIndexError\u001b[0m: pop from empty list"
     ]
    }
   ],
   "source": [
    "a.pop()"
   ]
  },
  {
   "cell_type": "code",
   "execution_count": 88,
   "metadata": {},
   "outputs": [],
   "source": [
    "b = iter({1,2,3})"
   ]
  },
  {
   "cell_type": "code",
   "execution_count": 93,
   "metadata": {},
   "outputs": [
    {
     "data": {
      "text/plain": [
       "{'aaa': 3, 'a': 1, 'abcd': 4}"
      ]
     },
     "execution_count": 93,
     "metadata": {},
     "output_type": "execute_result"
    }
   ],
   "source": [
    "{ a: len(a) for a in ['aaa', 'a', 'abcd'] }"
   ]
  },
  {
   "cell_type": "code",
   "execution_count": 95,
   "metadata": {},
   "outputs": [
    {
     "data": {
      "text/plain": [
       "True"
      ]
     },
     "execution_count": 95,
     "metadata": {},
     "output_type": "execute_result"
    }
   ],
   "source": [
    "x = 0\n",
    "y = 0\n",
    "x == y == 0"
   ]
  },
  {
   "cell_type": "code",
   "execution_count": 96,
   "metadata": {},
   "outputs": [
    {
     "data": {
      "text/plain": [
       "45"
      ]
     },
     "execution_count": 96,
     "metadata": {},
     "output_type": "execute_result"
    }
   ],
   "source": [
    "sum( [ x for x in range(10) ] )"
   ]
  },
  {
   "cell_type": "code",
   "execution_count": 98,
   "metadata": {},
   "outputs": [],
   "source": [
    "a = iter( [ x for x in range(10) ] )"
   ]
  },
  {
   "cell_type": "code",
   "execution_count": 99,
   "metadata": {},
   "outputs": [],
   "source": [
    " b = ( x  for x in range(10) )\n",
    "from itertools import i"
   ]
  },
  {
   "cell_type": "code",
   "execution_count": 101,
   "metadata": {},
   "outputs": [
    {
     "data": {
      "text/plain": [
       "True"
      ]
     },
     "execution_count": 101,
     "metadata": {},
     "output_type": "execute_result"
    }
   ],
   "source": [
    "all( x == y for x, y in zip(a,b) )"
   ]
  },
  {
   "cell_type": "code",
   "execution_count": null,
   "metadata": {},
   "outputs": [],
   "source": []
  }
 ],
 "metadata": {
  "kernelspec": {
   "display_name": "Python 3",
   "language": "python",
   "name": "python3"
  },
  "language_info": {
   "codemirror_mode": {
    "name": "ipython",
    "version": 3
   },
   "file_extension": ".py",
   "mimetype": "text/x-python",
   "name": "python",
   "nbconvert_exporter": "python",
   "pygments_lexer": "ipython3",
   "version": "3.6.1"
  }
 },
 "nbformat": 4,
 "nbformat_minor": 2
}
